{
 "cells": [
  {
   "cell_type": "code",
   "execution_count": 391,
   "metadata": {},
   "outputs": [],
   "source": [
    "import pymysql\n",
    "import spotipy\n",
    "from tqdm import tqdm\n",
    "\n",
    "conn = pymysql.connect(\n",
    "    host='127.0.0.1',\n",
    "    user='root',\n",
    "    password='masha999',\n",
    "    charset='utf8mb4',\n",
    "    database='playlists'\n",
    ")\n",
    "\n",
    "cur = conn.cursor()"
   ]
  },
  {
   "cell_type": "markdown",
   "metadata": {},
   "source": [
    "## Создание и заполнение таблиц"
   ]
  },
  {
   "cell_type": "code",
   "execution_count": 276,
   "metadata": {},
   "outputs": [],
   "source": [
    "#токен работает 1 час\n",
    "token = 'BQBj7nDHGaYcf33OH9K9oJePN4c6innL2loVXC3jUManpip_Af-OAt5XyktHp1NJYPrvrQvdfn2M9PPVUUGi9-xGJymb6cwAmGMsxhpmhop1d6h-I9v8gYiP0L76gLbyBv7hcUV-_owqCwGQecJlEiH52xTCryD-boJsLoQ'\n",
    "sp = spotipy.Spotify(auth=token)"
   ]
  },
  {
   "cell_type": "code",
   "execution_count": 285,
   "metadata": {},
   "outputs": [],
   "source": [
    "cur.execute('''CREATE TABLE IF NOT EXISTS track_playlist (id_t_p int AUTO_INCREMENT NOT NULL, track_id varchar(255), playlist_id varchar(255), track_number int, PRIMARY KEY(id_t_p))''')\n",
    "cur.execute('''CREATE TABLE IF NOT EXISTS track_artist (id_t_ar int AUTO_INCREMENT NOT NULL, track_id varchar(255), artist_id varchar(255), PRIMARY KEY(id_t_ar))''')\n",
    "cur.execute('''CREATE TABLE IF NOT EXISTS album_artist (id_al_ar int AUTO_INCREMENT NOT NULL, album_id varchar(255), artist_id varchar(255), PRIMARY KEY(id_al_ar))''')\n",
    "cur.execute('''CREATE TABLE IF NOT EXISTS playlists (playlist_id varchar(255) NOT NULL, name varchar(256), followers int, total_tracks int, PRIMARY KEY(playlist_id), UNIQUE(playlist_id))''')\n",
    "cur.execute('''CREATE TABLE IF NOT EXISTS tracks (track_id varchar(255) NOT NULL, name varchar(256), duration int, popularity int, album_id varchar(256), explicit int, PRIMARY KEY(track_id), UNIQUE(track_id))''')\n",
    "cur.execute('''CREATE TABLE IF NOT EXISTS albums (album_id varchar(255) NOT NULL, name varchar(256), total_tracks varchar(256), release_date date, PRIMARY KEY(album_id), UNIQUE(album_id))''')\n",
    "cur.execute('''CREATE TABLE IF NOT EXISTS artists (artist_id varchar(255) NOT NULL, name varchar(256), PRIMARY KEY(artist_id), UNIQUE(artist_id))''')\n",
    "conn.commit()"
   ]
  },
  {
   "cell_type": "code",
   "execution_count": 286,
   "metadata": {},
   "outputs": [
    {
     "name": "stderr",
     "output_type": "stream",
     "text": [
      "100%|██████████| 15/15 [00:04<00:00,  3.60it/s]\n"
     ]
    }
   ],
   "source": [
    "pls = sp.current_user_playlists()\n",
    "inserted = []\n",
    "for pl in tqdm(pls['items']):\n",
    "    pl = sp.playlist(pl['id'])\n",
    "    pl_id = pl['id']\n",
    "    pl_name = pl['name']\n",
    "    pl_tr = pl['tracks']['items']\n",
    "    pl_num_tr = pl['tracks']['total']\n",
    "    pl_fl = pl['followers']['total']\n",
    "    cur.execute(f'INSERT IGNORE INTO playlists (playlist_id, name, followers, total_tracks) VALUES (\"{pl_id}\", \"{pl_name}\", {pl_fl}, {pl_num_tr})')\n",
    "    for i, tr in enumerate(pl_tr):\n",
    "        tr_id = tr['track']['id']\n",
    "        tr_dur = tr['track']['duration_ms']\n",
    "        tr_pop = tr['track']['popularity']\n",
    "        tr_exp = int(tr['track']['explicit'])\n",
    "        tr_name = tr['track']['name']\n",
    "        tr_art = tr['track']['artists']\n",
    "        tr_n = i + 1\n",
    "        alb = tr['track']['album']\n",
    "        alb_id = alb['id']\n",
    "        alb_tp = alb['type']\n",
    "        alb_name = alb['name']\n",
    "        alb_num_tr = alb['total_tracks']\n",
    "        alb_dt = alb['release_date']\n",
    "        alb_art = alb['artists']\n",
    "        cur.execute(f'INSERT IGNORE INTO track_playlist (track_id, playlist_id, track_number) VALUES (\"{tr_id}\", \"{pl_id}\", {tr_n})')\n",
    "        if tr_id not in inserted:\n",
    "            cur.execute(f'INSERT IGNORE INTO tracks (track_id, name, popularity, duration, explicit, album_id) VALUES (\"{tr_id}\", \"{tr_name}\", {tr_pop}, {tr_dur}, {tr_exp}, \"{alb_id}\")')\n",
    "            cur.execute(f'INSERT IGNORE INTO albums (album_id, name, total_tracks, release_date) VALUES (\"{alb_id}\", \"{alb_name}\", {alb_num_tr}, \"{alb_dt}\")')\n",
    "            for art in tr_art:\n",
    "                art_id = art['id']\n",
    "                art_name = art['name']\n",
    "                cur.execute(f'INSERT IGNORE INTO artists (artist_id, name) VALUES (\"{art_id}\", \"{art_name}\")')\n",
    "                cur.execute(f'INSERT IGNORE INTO track_artist (track_id, artist_id) VALUES (\"{tr_id}\", \"{art_id}\")')\n",
    "            for art in alb_art:\n",
    "                art_id = art['id']\n",
    "                art_name = art['name']\n",
    "                cur.execute(f'INSERT IGNORE INTO artists (artist_id, name) VALUES (\"{art_id}\", \"{art_name}\")')\n",
    "            cur.execute(f'INSERT IGNORE INTO album_artist (album_id, artist_id) VALUES (\"{alb_id}\", \"{art_id}\")')\n",
    "            inserted.append(tr_id)\n",
    "            \n",
    "conn.commit()"
   ]
  },
  {
   "cell_type": "markdown",
   "metadata": {},
   "source": [
    "## Запросы"
   ]
  },
  {
   "cell_type": "markdown",
   "metadata": {},
   "source": [
    "1. Топ-10 альбомов по средней популярности треков"
   ]
  },
  {
   "cell_type": "code",
   "execution_count": 287,
   "metadata": {},
   "outputs": [
    {
     "data": {
      "text/plain": [
       "(('Therefore I Am', Decimal('82.0000')),\n",
       " ('The Truth About Love', Decimal('80.0000')),\n",
       " ('ITAEWON CLASS (Original Television Soundtrack) Pt. 12', Decimal('80.0000')),\n",
       " ('Film out', Decimal('80.0000')),\n",
       " ('WHEN WE ALL FALL ASLEEP, WHERE DO WE GO?', Decimal('79.0000')),\n",
       " ('Raise Your Glass', Decimal('79.0000')),\n",
       " ('MAP OF THE SOUL : PERSONA', Decimal('78.6667')),\n",
       " ('eight', Decimal('77.0000')),\n",
       " ('Savage Love (Laxed - Siren Beat) [BTS Remix]', Decimal('77.0000')),\n",
       " ('THE ALBUM', Decimal('77.0000')))"
      ]
     },
     "execution_count": 287,
     "metadata": {},
     "output_type": "execute_result"
    }
   ],
   "source": [
    "cur.execute('''SELECT albums.name, AVG(popularity) FROM tracks \n",
    "            INNER JOIN albums ON tracks.album_id = albums.album_id \n",
    "            GROUP BY tracks.album_id ORDER BY AVG(popularity) DESC LIMIT 10''')\n",
    "cur.fetchall()"
   ]
  },
  {
   "cell_type": "markdown",
   "metadata": {},
   "source": [
    "2. Трек, название плейлиста, позиция трека в плейлисте"
   ]
  },
  {
   "cell_type": "code",
   "execution_count": 296,
   "metadata": {},
   "outputs": [
    {
     "data": {
      "text/plain": [
       "(('ариведерчи', 'Ru-playlist', 1),\n",
       " ('Ведьма III - IV', 'Ru-playlist', 2),\n",
       " ('Новые люди', 'Ru-playlist', 3),\n",
       " ('Формалин', 'Ru-playlist', 4),\n",
       " ('Впусти музыку', 'Ru-playlist', 5),\n",
       " ('А мы не ангелы, парень', 'Ru-playlist', 6),\n",
       " ('Всадник из льда', 'Ru-playlist', 7),\n",
       " ('Я выбираю ночь', 'Ru-playlist', 8),\n",
       " ('Ведьма 3', 'Ru-playlist', 9),\n",
       " ('Одиночка', 'Ru-playlist', 10))"
      ]
     },
     "execution_count": 296,
     "metadata": {},
     "output_type": "execute_result"
    }
   ],
   "source": [
    "cur.execute('''SELECT tracks.name, playlists.name, track_playlist.track_number \n",
    "            FROM playlists, tracks, track_playlist \n",
    "            WHERE tracks.track_id = track_playlist.track_id AND playlists.playlist_id = track_playlist.playlist_id\n",
    "            LIMIT 10''')\n",
    "cur.fetchall()"
   ]
  },
  {
   "cell_type": "markdown",
   "metadata": {},
   "source": [
    "3. Топ-5 исполнителей по количеству треков в плейлистах"
   ]
  },
  {
   "cell_type": "code",
   "execution_count": 297,
   "metadata": {},
   "outputs": [
    {
     "data": {
      "text/plain": [
       "(('Pentatonix', 130), ('BTS', 83), ('RM', 12), ('Agust D', 8), ('Halsey', 7))"
      ]
     },
     "execution_count": 297,
     "metadata": {},
     "output_type": "execute_result"
    }
   ],
   "source": [
    "cur.execute('''SELECT artists.name, art_tr_count.artist_count FROM artists INNER JOIN\n",
    "                (SELECT track_artist.artist_id, COUNT(*) AS artist_count FROM track_artist \n",
    "                GROUP BY track_artist.artist_id) art_tr_count \n",
    "                ON artists.artist_id = art_tr_count.artist_id ORDER BY artist_count DESC LIMIT 5''')\n",
    "cur.fetchall()"
   ]
  },
  {
   "cell_type": "markdown",
   "metadata": {},
   "source": [
    "4. Треки, которые исполняют больше 2 артистов"
   ]
  },
  {
   "cell_type": "code",
   "execution_count": 396,
   "metadata": {},
   "outputs": [
    {
     "data": {
      "text/plain": [
       "(('Хоккей', 3),\n",
       " (\"SUGA's Interlude\", 3),\n",
       " (\"SUGA's Interlude\", 3),\n",
       " ('От винта!', 3),\n",
       " (\"It Can't Be True\", 3),\n",
       " ('Savage Love (Laxed – Siren Beat) [BTS Remix]', 3),\n",
       " ('Вести-бу-би-лю-би-бу', 3),\n",
       " ('Crying Over You ◐ (feat. RM & BEKA)', 3),\n",
       " ('Бедненький больной', 4),\n",
       " ('Город Омск', 4))"
      ]
     },
     "execution_count": 396,
     "metadata": {},
     "output_type": "execute_result"
    }
   ],
   "source": [
    "cur.execute('''SELECT tracks.name, COUNT(artists.name) FROM track_artist \n",
    "            INNER JOIN tracks ON tracks.track_id = track_artist.track_id \n",
    "            INNER JOIN artists ON artists.artist_id = track_artist.artist_id \n",
    "            GROUP BY track_artist.track_id HAVING COUNT(artists.name) > 2 ORDER BY COUNT(artists.name) ASC''')\n",
    "cur.fetchall()"
   ]
  },
  {
   "cell_type": "markdown",
   "metadata": {},
   "source": [
    "5. Альбомы, выпущенные в один день (попарно)"
   ]
  },
  {
   "cell_type": "code",
   "execution_count": 397,
   "metadata": {},
   "outputs": [
    {
     "data": {
      "text/plain": [
       "(('minisode1 : Blue Hour', 'Eyes wide open', datetime.date(2020, 10, 26)),\n",
       " ('Eyes Wide Open', 'minisode1 : Blue Hour', datetime.date(2020, 10, 26)),\n",
       " ('Eyes Wide Open', 'Eyes wide open', datetime.date(2020, 10, 26)),\n",
       " ('Eyes wide open', 'minisode1 : Blue Hour', datetime.date(2020, 10, 26)),\n",
       " ('minisode1 : Blue Hour', 'Eyes Wide Open', datetime.date(2020, 10, 26)),\n",
       " ('Eyes wide open', 'Eyes Wide Open', datetime.date(2020, 10, 26)),\n",
       " ('Savage Love (Laxed - Siren Beat) [BTS Remix]',\n",
       "  'Mad World',\n",
       "  datetime.date(2020, 10, 2)),\n",
       " ('THE ALBUM', 'Mad World', datetime.date(2020, 10, 2)),\n",
       " ('Mad World', 'THE ALBUM', datetime.date(2020, 10, 2)),\n",
       " ('Mad World',\n",
       "  'Savage Love (Laxed - Siren Beat) [BTS Remix]',\n",
       "  datetime.date(2020, 10, 2)),\n",
       " ('Savage Love (Laxed - Siren Beat) [BTS Remix]',\n",
       "  'THE ALBUM',\n",
       "  datetime.date(2020, 10, 2)),\n",
       " ('THE ALBUM',\n",
       "  'Savage Love (Laxed - Siren Beat) [BTS Remix]',\n",
       "  datetime.date(2020, 10, 2)),\n",
       " ('Dynamite (NightTime Version)', 'Colour Vision', datetime.date(2020, 9, 18)),\n",
       " ('Colour Vision', 'Dynamite (NightTime Version)', datetime.date(2020, 9, 18)),\n",
       " ('Уже ягодки', 'Те ещё грибочки', datetime.date(2020, 8, 2)),\n",
       " ('Те ещё грибочки', 'Уже ягодки', datetime.date(2020, 8, 2)),\n",
       " ('Смешарики. песни из мультфильмов',\n",
       "  'Смешарики. песни из мультфильмов. выпуск 2',\n",
       "  datetime.date(2015, 6, 24)),\n",
       " ('Смешарики. песни из мультфильмов. выпуск 2',\n",
       "  'Смешарики. песни из мультфильмов',\n",
       "  datetime.date(2015, 6, 24)),\n",
       " ('Смешарики. Песни из мультфильмов. Выпуск 2',\n",
       "  'Смешарики. Песни из мультфильмов. Выпуск 1',\n",
       "  datetime.date(2012, 1, 1)),\n",
       " ('Смешарики. Песни из мультфильмов. Выпуск 1',\n",
       "  'Смешарики. Песни из мультфильмов. Выпуск 2',\n",
       "  datetime.date(2012, 1, 1)),\n",
       " ('ОДИНОЧКА', 'Прикосновение', '0000-00-00'),\n",
       " ('Волшебство', 'Love Me / Love Me Not (Sessions)', '0000-00-00'),\n",
       " ('Love Me / Love Me Not (Sessions)', 'Прикосновение', '0000-00-00'),\n",
       " ('ОДИНОЧКА', 'Love Me / Love Me Not (Sessions)', '0000-00-00'),\n",
       " ('Король и Шут (Будь как дома, путник...)', 'Волшебство', '0000-00-00'),\n",
       " ('Прикосновение', 'Волшебство', '0000-00-00'),\n",
       " ('ОДИНОЧКА', 'Волшебство', '0000-00-00'),\n",
       " ('Love Me / Love Me Not (Sessions)', 'Волшебство', '0000-00-00'),\n",
       " ('Король и Шут (Будь как дома, путник...)', 'ОДИНОЧКА', '0000-00-00'),\n",
       " ('Прикосновение', 'Король и Шут (Будь как дома, путник...)', '0000-00-00'),\n",
       " ('Прикосновение', 'ОДИНОЧКА', '0000-00-00'),\n",
       " ('Волшебство', 'Король и Шут (Будь как дома, путник...)', '0000-00-00'),\n",
       " ('Волшебство', 'ОДИНОЧКА', '0000-00-00'),\n",
       " ('ОДИНОЧКА', 'Король и Шут (Будь как дома, путник...)', '0000-00-00'),\n",
       " ('Love Me / Love Me Not (Sessions)', 'ОДИНОЧКА', '0000-00-00'),\n",
       " ('Love Me / Love Me Not (Sessions)',\n",
       "  'Король и Шут (Будь как дома, путник...)',\n",
       "  '0000-00-00'),\n",
       " ('Король и Шут (Будь как дома, путник...)', 'Прикосновение', '0000-00-00'),\n",
       " ('Король и Шут (Будь как дома, путник...)',\n",
       "  'Love Me / Love Me Not (Sessions)',\n",
       "  '0000-00-00'),\n",
       " ('Волшебство', 'Прикосновение', '0000-00-00'),\n",
       " ('Прикосновение', 'Love Me / Love Me Not (Sessions)', '0000-00-00'))"
      ]
     },
     "execution_count": 397,
     "metadata": {},
     "output_type": "execute_result"
    }
   ],
   "source": [
    "cur.execute('''SELECT A.name, B.name, A.release_date FROM albums A, albums B \n",
    "            WHERE A.album_id != B.album_id AND A.release_date = B.release_date\n",
    "            ORDER BY A.release_date DESC''')\n",
    "cur.fetchall()"
   ]
  },
  {
   "cell_type": "markdown",
   "metadata": {},
   "source": [
    "6. Треки, популярность которых выше средней популярности тех треков, у которых популярность больше 0"
   ]
  },
  {
   "cell_type": "code",
   "execution_count": 377,
   "metadata": {},
   "outputs": [
    {
     "data": {
      "text/plain": [
       "(('Bohemian Rhapsody', 57),\n",
       " ('P.O.P (Piece Of Peace) Pt. 1', 57),\n",
       " ('Cheerleader (OMI Cover)', 57),\n",
       " ('Reflection', 57),\n",
       " ('Shallow', 57),\n",
       " (\"That's Christmas to Me\", 58),\n",
       " ('Dynamite', 58),\n",
       " ('Deck The Halls', 58),\n",
       " ('Skit', 58),\n",
       " ('Jolene (feat. Dolly Parton)', 58),\n",
       " ('Can You Feel the Love Tonight', 58),\n",
       " ('Stay Here', 59),\n",
       " ('Mary, Did You Know?', 59),\n",
       " ('In Silence', 59),\n",
       " ('badbye', 59),\n",
       " ('GO HARD', 59),\n",
       " ('Little Drummer Boy', 59),\n",
       " ('Interlude: Wings', 59),\n",
       " ('Never Grow Up', 59),\n",
       " ('Crying Over You ◐ (feat. RM & BEKA)', 59),\n",
       " ('Change', 60),\n",
       " ('First Love', 60),\n",
       " ('Interlude : Set me free', 60),\n",
       " ('Carol of the Bells', 60),\n",
       " ('Honsool', 60),\n",
       " (\"SUGA's Interlude\", 61),\n",
       " ('Attack on Bangtan', 61),\n",
       " (\"Please Don't Leave Me\", 61),\n",
       " ('Sing', 61),\n",
       " ('Формалин', 61),\n",
       " ('Look Here', 61),\n",
       " ('Coldest Winter - Bobby Alt Drum Mix', 61),\n",
       " ('Love me or Leave me', 61),\n",
       " ('uhgood', 61),\n",
       " ('God Rest Ye Merry Gentlemen', 62),\n",
       " (\"Winter Wonderland / Don't Worry Be Happy (feat. Tori Kelly)\", 62),\n",
       " ('Just For Now', 62),\n",
       " (\"SUGA's Interlude\", 62),\n",
       " ('Dear my friend (feat. Kim Jong Wan of NELL)', 62),\n",
       " ('Lonely Eyes', 62),\n",
       " ('everythingoes', 62),\n",
       " ('Dionysus', 63),\n",
       " ('Wishlist', 63),\n",
       " ('My Heart With You', 63),\n",
       " ('누군가 필요해 I Need Somebody', 63),\n",
       " ('Sweater Weather', 63),\n",
       " ('forever rain', 63),\n",
       " ('Daft Punk', 63),\n",
       " ('Seasons Of Love', 63),\n",
       " ('Radioactive', 63),\n",
       " ('Make It Right', 64),\n",
       " (\"Can't Sleep Love\", 64),\n",
       " ('Intro : Persona', 64),\n",
       " ('Joyful, Joyful', 64),\n",
       " ('Blue Side (Outro)', 64),\n",
       " ('Hope World', 64),\n",
       " (\"F**kin' Perfect\", 64),\n",
       " ('tokyo', 64),\n",
       " ('Once Upon A December', 64),\n",
       " ('Dynamite - Holiday Remix', 64),\n",
       " ('Airplane', 64),\n",
       " ('Waltz Of The Flowers', 64),\n",
       " ('Evergreen', 65),\n",
       " ('Hold Me Tight', 65),\n",
       " ('Darling', 65),\n",
       " ('ON (Feat. Sia)', 65),\n",
       " ('Little Saint Nick', 65),\n",
       " ('So Far Away', 65),\n",
       " ('28', 65),\n",
       " ('I Just Called To Say I Love You', 65),\n",
       " ('River', 66),\n",
       " ('Boy With Luv (Feat. Halsey)', 66),\n",
       " ('Do You Hear What I Hear?', 66),\n",
       " (\"It's Been A Long, Long Time\", 66),\n",
       " ('Best Of Me', 66),\n",
       " (\"You're A Mean One, Mr. Grinch\", 66),\n",
       " ('It Came Upon The Midnight Clear', 66),\n",
       " ('moonchild', 66),\n",
       " ('Trivia 承 : Love', 66),\n",
       " ('God Only Knows', 66),\n",
       " ('Over The River (feat. Lindsey Stirling)', 66),\n",
       " ('The Sound of Silence', 67),\n",
       " ('Outro: Wings', 67),\n",
       " ('Home For The Holidays', 67),\n",
       " ('Jamais Vu', 67),\n",
       " ('Burn It', 68),\n",
       " ('I Saw Three Ships', 68),\n",
       " ('Respect', 68),\n",
       " ('Palette (feat. G-DRAGON)', 68),\n",
       " ('Epilogue: Young Forever', 68),\n",
       " ('WINTER FLOWER(Feat.RM)', 68),\n",
       " ('Strange', 68),\n",
       " ('We Wish You A Merry Christmas', 68),\n",
       " ('Sleigh Ride', 69),\n",
       " ('Run', 69),\n",
       " ('Daydream (백일몽)', 69),\n",
       " ('Waste It On Me', 69),\n",
       " ('Crystal Snow', 69),\n",
       " ('White Winter Hymnal (Fleet Foxes Cover)', 70),\n",
       " ('Castle', 70),\n",
       " ('Interlude : Shadow', 70),\n",
       " ('134340', 70),\n",
       " ('Hallelujah', 70),\n",
       " ('Outro : Ego', 70),\n",
       " ('Celebrity', 70),\n",
       " (\"Don't (feat. RM)\", 70),\n",
       " ('seoul (prod. HONNE)', 70),\n",
       " ('Wonderful Christmastime', 70),\n",
       " (\"Don't Leave Me\", 71),\n",
       " ('Blueberry Eyes (feat. SUGA of BTS)', 71),\n",
       " (\"I'm Fine\", 72),\n",
       " ('People', 72),\n",
       " ('Go Go', 72),\n",
       " ('Magic Shop', 72),\n",
       " ('Magic Shop', 72),\n",
       " ('Dope', 72),\n",
       " ('Trivia 轉 : Seesaw', 73),\n",
       " ('UGH!', 73),\n",
       " (\"It's Definitely You\", 73),\n",
       " ('Nightmare', 73),\n",
       " ('Black Swan', 73),\n",
       " ('Louder than bombs', 73),\n",
       " ('Inner Child', 73),\n",
       " ('So What', 73),\n",
       " ('The Prayer', 73),\n",
       " ('Answer : Love Myself', 73),\n",
       " ('Heartbeat (BTS World Original Soundtrack)', 73),\n",
       " ('instagram', 73),\n",
       " ('Moon', 74),\n",
       " ('Fly To My Room', 74),\n",
       " ('Stay', 74),\n",
       " ('We are Bulletproof : the Eternal', 74),\n",
       " ('00:00 (Zero O’Clock)', 74),\n",
       " ('Dis-ease', 74),\n",
       " ('Blueberry Eyes (feat. SUGA of BTS)', 74),\n",
       " ('Friends', 74),\n",
       " ('Spring Day', 75),\n",
       " ('Dynamite', 75),\n",
       " (\"That's Christmas to Me\", 75),\n",
       " ('The Other Side', 75),\n",
       " ('Stay Gold', 75),\n",
       " ('What About Us', 76),\n",
       " ('Blue & Grey', 76),\n",
       " ('Telepathy', 76),\n",
       " ('Your eyes tell', 76),\n",
       " ('My Time', 76),\n",
       " ('Epiphany', 76),\n",
       " ('Frosty The Snowman (feat. Alessia Cara)', 76),\n",
       " ('HOME', 76),\n",
       " ('eight(Prod.&Feat. SUGA of BTS)', 77),\n",
       " ('Savage Love (Laxed – Siren Beat) [BTS Remix]', 77),\n",
       " ('Lovesick Girls', 77),\n",
       " ('Mikrokosmos', 77),\n",
       " ('ON', 78),\n",
       " ('Who (feat. BTS)', 78),\n",
       " ('So What', 79),\n",
       " ('Raise Your Glass', 79),\n",
       " ('wish you were gay', 79),\n",
       " ('bury a friend', 79),\n",
       " ('Try', 80),\n",
       " ('Sweet Night', 80),\n",
       " ('Film out', 80),\n",
       " ('Hallelujah', 80),\n",
       " ('Filter', 81),\n",
       " ('Life Goes On', 82),\n",
       " ('Therefore I Am', 82),\n",
       " ('Boy With Luv (feat. Halsey)', 83),\n",
       " ('Dynamite', 87))"
      ]
     },
     "execution_count": 377,
     "metadata": {},
     "output_type": "execute_result"
    }
   ],
   "source": [
    "cur.execute('''SELECT tracks.name, popularity FROM tracks \n",
    "            WHERE popularity > (SELECT AVG(popularity) FROM tracks WHERE popularity > 0)\n",
    "            ORDER BY popularity''')\n",
    "cur.fetchall()"
   ]
  },
  {
   "cell_type": "markdown",
   "metadata": {},
   "source": [
    "7. Кол-во explicit треков в альбомах"
   ]
  },
  {
   "cell_type": "code",
   "execution_count": 392,
   "metadata": {},
   "outputs": [
    {
     "data": {
      "text/plain": [
       "0"
      ]
     },
     "execution_count": 392,
     "metadata": {},
     "output_type": "execute_result"
    }
   ],
   "source": [
    "#cur.execute('ALTER TABLE albums DROP COLUMN num_exp')"
   ]
  },
  {
   "cell_type": "code",
   "execution_count": 393,
   "metadata": {},
   "outputs": [
    {
     "data": {
      "text/plain": [
       "(('D-2', 2),\n",
       " ('Funhouse (Expanded Edition)', 1),\n",
       " ('Greatest Hits...So Far!!!', 1),\n",
       " ('Raise Your Glass', 1),\n",
       " ('The Most Beautiful Moment in Life Pt.2', 1),\n",
       " ('Nightmare', 1),\n",
       " ('Savage Love (Laxed - Siren Beat) [BTS Remix]', 1))"
      ]
     },
     "execution_count": 393,
     "metadata": {},
     "output_type": "execute_result"
    }
   ],
   "source": [
    "cur.execute('ALTER TABLE albums ADD num_exp int')\n",
    "cur.execute('''UPDATE albums, (SELECT album_id, SUM(explicit) AS exp_al FROM tracks GROUP BY album_id) AS al_ex\n",
    "            SET num_exp = al_ex.exp_al WHERE albums.album_id = al_ex.album_id''')\n",
    "cur.execute('SELECT name, num_exp FROM albums WHERE num_exp > 0')\n",
    "cur.fetchall()\n"
   ]
  },
  {
   "cell_type": "code",
   "execution_count": 389,
   "metadata": {},
   "outputs": [],
   "source": [
    "conn.commit()"
   ]
  },
  {
   "cell_type": "code",
   "execution_count": 390,
   "metadata": {},
   "outputs": [],
   "source": [
    "conn.close()"
   ]
  },
  {
   "cell_type": "code",
   "execution_count": null,
   "metadata": {},
   "outputs": [],
   "source": []
  }
 ],
 "metadata": {
  "kernelspec": {
   "display_name": "Python 3",
   "language": "python",
   "name": "python3"
  },
  "language_info": {
   "codemirror_mode": {
    "name": "ipython",
    "version": 3
   },
   "file_extension": ".py",
   "mimetype": "text/x-python",
   "name": "python",
   "nbconvert_exporter": "python",
   "pygments_lexer": "ipython3",
   "version": "3.7.4"
  }
 },
 "nbformat": 4,
 "nbformat_minor": 2
}
